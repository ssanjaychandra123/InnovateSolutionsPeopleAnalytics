{
 "cells": [
  {
   "cell_type": "markdown",
   "id": "96ceaebd-82db-49c7-9547-c5aaa3dfbb2f",
   "metadata": {},
   "source": [
    "# The Workforce Intelligence Engine: Driving Performance Through Scalable People Analytics  \n",
    "\n",
    "---\n",
    "\n",
    "## Introduction  \n",
    "Organizations are experiencing unprecedented growth in workforce size and geographic spread. While this expansion fuels business opportunities, it also increases the complexity of managing data on people, departments, and costs.  \n",
    "\n",
    "Without scalable analytics tools, even simple leadership questions about workforce performance or financial planning take days to answer.  \n",
    "\n",
    "This case study introduces the **Workforce Intelligence Engine** — a framework built with PySpark to unify HR and Finance data into a scalable analytics system.  \n",
    "\n",
    "---\n",
    "\n",
    "## Company Background  \n",
    "**Innovate Solutions Inc.** is a rapidly growing global technology consulting firm. Its workforce has tripled in just two years due to international delivery centers.  \n",
    "\n",
    "However, this hypergrowth has created challenges:  \n",
    "- HR and Finance still rely on spreadsheets.  \n",
    "- Employee and department data is fragmented across systems.  \n",
    "- Leadership lacks fast, reliable insights into their most valuable asset: people.  \n",
    "\n",
    "---\n",
    "\n",
    "## Current Situation  \n",
    "The absence of a unified analytics engine results in:  \n",
    "\n",
    "- **Budget Uncertainty**: Finance cannot view real-time salary distribution.  \n",
    "- **Talent Management Gaps**: HR cannot analyze tenure, hiring patterns, or performance across departments.  \n",
    "- **Operational Inefficiency**: Answering questions requires manual effort, delaying decision-making.  \n",
    "\n",
    "---\n",
    "\n",
    "## Your Role & Objective  \n",
    "You are a **Senior Data Analyst** on the People Analytics team.  \n",
    "\n",
    "Your mission is to:  \n",
    "- Build the foundational **Workforce Intelligence Engine** with PySpark.  \n",
    "- Ingest HR and Finance data.  \n",
    "- Transform raw data into actionable intelligence.  \n",
    "\n",
    "---\n",
    "\n",
    "## Available Data  \n",
    "\n",
    "### 1. departments.csv  \n",
    "- `department_id` — Unique ID for each department.  \n",
    "- `department_name` — Department name.  \n",
    "- `location` — City where the department is based.  \n",
    "\n",
    "### 2. employees.csv  \n",
    "- `employee_id` — Unique ID for each employee.  \n",
    "- `employee_name` — Employee full name.  \n",
    "- `hire_date` — Date the employee was hired.  \n",
    "- `salary` — Annual salary of the employee.  \n",
    "- `department_id` — Foreign key linking to departments. "
   ]
  },
  {
   "cell_type": "markdown",
   "id": "6bfe6d34-4a70-4f37-a225-3e89d5cab21e",
   "metadata": {},
   "source": [
    "## 1. Core Imports and Spark Session Initialization  \n",
    "Before performing any analysis, we need to initialize a **Spark session** and import essential PySpark libraries.  \n",
    "- `SparkSession` creates and manages the Spark application.  \n",
    "- `functions` (`F`) provides built-in operations for filtering, aggregation, and transformation.  \n",
    "- `Window` is used for advanced analytics like ranking and running totals.  "
   ]
  },
  {
   "cell_type": "code",
   "execution_count": 5,
   "id": "2ae79385-4413-4eb6-ab3c-6e7cf5722724",
   "metadata": {},
   "outputs": [
    {
     "name": "stderr",
     "output_type": "stream",
     "text": [
      "WARNING: Using incubator modules: jdk.incubator.vector\n",
      "Using Spark's default log4j profile: org/apache/spark/log4j2-defaults.properties\n",
      "25/09/29 21:39:01 WARN Utils: Your hostname, Kunals-MacBook-Air.local, resolves to a loopback address: 127.0.0.1; using 192.168.0.117 instead (on interface en0)\n",
      "25/09/29 21:39:01 WARN Utils: Set SPARK_LOCAL_IP if you need to bind to another address\n",
      "Using Spark's default log4j profile: org/apache/spark/log4j2-defaults.properties\n",
      "Setting default log level to \"WARN\".\n",
      "To adjust logging level use sc.setLogLevel(newLevel). For SparkR, use setLogLevel(newLevel).\n",
      "25/09/29 21:39:02 WARN NativeCodeLoader: Unable to load native-hadoop library for your platform... using builtin-java classes where applicable\n"
     ]
    }
   ],
   "source": [
    "# This section imports necessary libraries and creates a SparkSession, which is the entry point to any Spark functionality.\n",
    "\n",
    "from pyspark.sql import SparkSession\n",
    "from pyspark.sql import functions as F \n",
    "from pyspark.sql.window import Window\n",
    "from pyspark.sql.types import StringType\n",
    "\n",
    "# pip install pyspark findspark\n",
    "\n",
    "spark = SparkSession.builder \\\n",
    "    .config(\"spark.driver.bindAddress\", \"127.0.0.1\") \\\n",
    "    .appName(\"PySparkBeginnerSession\") \\\n",
    "    .master(\"local[*]\") \\\n",
    "    .getOrCreate() "
   ]
  },
  {
   "cell_type": "markdown",
   "id": "ddb17fe3-2ae2-4242-a314-67ebe1fe37d1",
   "metadata": {},
   "source": [
    "## 2. Read & Load DataFrames  \n",
    "We will load the datasets provided:  \n",
    "\n",
    "1. **departments.csv** → Contains details of each department, including name and location.  \n",
    "2. **employees.csv** → Contains employee-level data, including IDs, names, salaries, hire dates, and department links.  \n",
    "\n",
    "Both CSV files will be read into **PySpark DataFrames** for analysis.  \n",
    "We ensure that:  \n",
    "- Headers are recognized.  \n",
    "- Data types (integer, string, date) follow the case study specification.  "
   ]
  },
  {
   "cell_type": "code",
   "execution_count": 6,
   "id": "6cf8066f-95a6-41cd-9016-743efd7c4807",
   "metadata": {},
   "outputs": [
    {
     "name": "stdout",
     "output_type": "stream",
     "text": [
      "+-----------+-----------------+----------+------+-------------+\n",
      "|employee_id|    employee_name| hire_date|salary|department_id|\n",
      "+-----------+-----------------+----------+------+-------------+\n",
      "|       1001|     David Harris|2016-09-16| 67812|          105|\n",
      "|       1002|      Victor Cobb|2021-03-16| 90368|          105|\n",
      "|       1003|     Joshua Fritz|2019-05-12| 52462|          102|\n",
      "|       1004|   Shannon Bowers|2020-07-19|109879|          110|\n",
      "|       1005|     Donna Hunter|2022-12-01| 56019|          110|\n",
      "|       1006|  Francis Kennedy|2022-04-10|130969|          101|\n",
      "|       1007| Natasha Anderson|2023-03-07| 78423|          105|\n",
      "|       1008|   Patricia Scott|2015-08-25|103992|          106|\n",
      "|       1009|    Wesley Carter|2019-01-07|112309|          103|\n",
      "|       1010|   Michael Rogers|2022-08-16|132918|          106|\n",
      "|       1011|    Melanie Heath|2023-02-08| 98144|          102|\n",
      "|       1012|     Kenneth Hill|2019-03-11|127447|          108|\n",
      "|       1013|    Lynn Williams|2024-06-15| 71867|          102|\n",
      "|       1014| Erin Fitzpatrick|2023-02-17|137303|          101|\n",
      "|       1015|   Matthew Wilson|2019-07-17| 53760|          106|\n",
      "|       1016|  Robert Gonzalez|2017-05-01| 57802|          106|\n",
      "|       1017|     Mary Elliott|2025-05-18|141541|          105|\n",
      "|       1018|      Janet Smith|2018-06-12|111431|          110|\n",
      "|       1019|     Dawn Escobar|2024-04-01|131577|          107|\n",
      "|       1020|Christopher White|2017-07-24|141355|          106|\n",
      "+-----------+-----------------+----------+------+-------------+\n",
      "only showing top 20 rows\n"
     ]
    }
   ],
   "source": [
    "employees_df = spark.read.csv(\"employees.csv\",header=True)\n",
    "employees_df.show() "
   ]
  },
  {
   "cell_type": "code",
   "execution_count": 7,
   "id": "be122d6a-2925-48f4-8cf3-421731b162a0",
   "metadata": {},
   "outputs": [
    {
     "name": "stdout",
     "output_type": "stream",
     "text": [
      "+-------------+--------------------+-------------------+\n",
      "|department_id|     department_name|           location|\n",
      "+-------------+--------------------+-------------------+\n",
      "|          101|         Media buyer|        Melissastad|\n",
      "|          102|            Animator|     East Tracyfurt|\n",
      "|          103|      Hydrogeologist|        Carrchester|\n",
      "|          104|Fitness centre ma...|        Gilbertfort|\n",
      "|          105|       Meteorologist|        Brennanbury|\n",
      "|          106|Research scientis...|       Breannamouth|\n",
      "|          107|     Hospital doctor|          Yatesport|\n",
      "|          108| Visual merchandiser|   Port Josephhaven|\n",
      "|          109|    Technical author|         Davidville|\n",
      "|          110|Engineer building...|South Catherineberg|\n",
      "+-------------+--------------------+-------------------+\n",
      "\n"
     ]
    }
   ],
   "source": [
    "departments_df = spark.read.csv(\"departments.csv\",header = True)\n",
    "departments_df.show() "
   ]
  },
  {
   "cell_type": "markdown",
   "id": "8203a6f7-4553-4a97-9a9b-4af8d22fcbf9",
   "metadata": {},
   "source": [
    "# --- Part 1: Guided Analytics Session ---  "
   ]
  },
  {
   "cell_type": "markdown",
   "id": "15f24e71-fe7e-43c6-8187-d35e878f3669",
   "metadata": {},
   "source": [
    "## Question 1: Find all employees who earn more than $140,000  "
   ]
  },
  {
   "cell_type": "code",
   "execution_count": 8,
   "id": "cbcdf08b-20d2-4650-ba5d-f6dd8c2068b7",
   "metadata": {},
   "outputs": [
    {
     "name": "stdout",
     "output_type": "stream",
     "text": [
      "+-----------+------------------+----------+------+-------------+\n",
      "|employee_id|     employee_name| hire_date|salary|department_id|\n",
      "+-----------+------------------+----------+------+-------------+\n",
      "|       1017|      Mary Elliott|2025-05-18|141541|          105|\n",
      "|       1020| Christopher White|2017-07-24|141355|          106|\n",
      "|       1021|Sophia Nielsen DVM|2017-06-23|141031|          106|\n",
      "|       1023|     James Jackson|2022-04-20|149130|          109|\n",
      "|       1036|  Franklin Alvarez|2022-10-14|146824|          104|\n",
      "|       1039|       Bryan Davis|2017-12-09|146073|          103|\n",
      "|       1050|      Ethan Martin|2022-08-03|146786|          107|\n",
      "|       1051|      Joseph Mejia|2024-10-05|149157|          109|\n",
      "|       1068|    Phillip Miller|2022-04-15|142131|          110|\n",
      "|       1086|    Carmen Wallace|2019-06-01|142597|          101|\n",
      "|       1089|     Nathan Montes|2024-12-26|144072|          109|\n",
      "|       1123|  Christine Howard|2019-02-28|142812|          103|\n",
      "|       1145|     Shane Vaughan|2022-03-03|140439|          102|\n",
      "|       1150|      Denise Duran|2018-03-22|146156|          107|\n",
      "|       1151|     Krystal Nunez|2017-09-11|146549|          101|\n",
      "|       1167|     Mia Schroeder|2022-06-08|144244|          105|\n",
      "|       1183|     Brianna White|2020-02-23|148083|          105|\n",
      "|       1184|      Peter Golden|2016-05-10|140269|          108|\n",
      "|       1185|     James Freeman|2024-05-19|140543|          102|\n",
      "|       1197|   Kathryn Sanford|2021-05-23|149769|          106|\n",
      "+-----------+------------------+----------+------+-------------+\n",
      "only showing top 20 rows\n"
     ]
    }
   ],
   "source": [
    "employees_df.filter(F.col(\"salary\") > 140000).show() "
   ]
  },
  {
   "cell_type": "markdown",
   "id": "65bfe240-bf34-4198-89ba-594fbd113100",
   "metadata": {},
   "source": [
    "## Question 2: Select only the employee's name, salary, and hire date, and rename `employee_name` to `name`.  "
   ]
  },
  {
   "cell_type": "code",
   "execution_count": 6,
   "id": "02bdf3d4-3b20-4499-99c5-815f7ed19f45",
   "metadata": {},
   "outputs": [
    {
     "name": "stdout",
     "output_type": "stream",
     "text": [
      "+-----------------+------+----------+\n",
      "|             name|salary| hire_date|\n",
      "+-----------------+------+----------+\n",
      "|     David Harris| 67812|2016-09-16|\n",
      "|      Victor Cobb| 90368|2021-03-16|\n",
      "|     Joshua Fritz| 52462|2019-05-12|\n",
      "|   Shannon Bowers|109879|2020-07-19|\n",
      "|     Donna Hunter| 56019|2022-12-01|\n",
      "|  Francis Kennedy|130969|2022-04-10|\n",
      "| Natasha Anderson| 78423|2023-03-07|\n",
      "|   Patricia Scott|103992|2015-08-25|\n",
      "|    Wesley Carter|112309|2019-01-07|\n",
      "|   Michael Rogers|132918|2022-08-16|\n",
      "|    Melanie Heath| 98144|2023-02-08|\n",
      "|     Kenneth Hill|127447|2019-03-11|\n",
      "|    Lynn Williams| 71867|2024-06-15|\n",
      "| Erin Fitzpatrick|137303|2023-02-17|\n",
      "|   Matthew Wilson| 53760|2019-07-17|\n",
      "|  Robert Gonzalez| 57802|2017-05-01|\n",
      "|     Mary Elliott|141541|2025-05-18|\n",
      "|      Janet Smith|111431|2018-06-12|\n",
      "|     Dawn Escobar|131577|2024-04-01|\n",
      "|Christopher White|141355|2017-07-24|\n",
      "+-----------------+------+----------+\n",
      "only showing top 20 rows\n"
     ]
    }
   ],
   "source": [
    "employees_df.select(F.col(\"employee_name\").alias(\"name\"),F.col(\"salary\"),F.col(\"hire_date\")).show() "
   ]
  },
  {
   "cell_type": "markdown",
   "id": "93c44a62-27ec-4d79-90cd-b60fc1ef4d2f",
   "metadata": {},
   "source": [
    "## Question 3: Find employees who were hired in the year 2022.  "
   ]
  },
  {
   "cell_type": "code",
   "execution_count": 7,
   "id": "81adadd6-5ebc-4ac1-88aa-5970282e32c3",
   "metadata": {
    "scrolled": true
   },
   "outputs": [
    {
     "name": "stdout",
     "output_type": "stream",
     "text": [
      "+-----------+--------------------+----------+------+-------------+\n",
      "|employee_id|       employee_name| hire_date|salary|department_id|\n",
      "+-----------+--------------------+----------+------+-------------+\n",
      "|       1005|        Donna Hunter|2022-12-01| 56019|          110|\n",
      "|       1006|     Francis Kennedy|2022-04-10|130969|          101|\n",
      "|       1010|      Michael Rogers|2022-08-16|132918|          106|\n",
      "|       1023|       James Jackson|2022-04-20|149130|          109|\n",
      "|       1036|    Franklin Alvarez|2022-10-14|146824|          104|\n",
      "|       1045|        Hannah Smith|2022-01-16|118955|          103|\n",
      "|       1048|      Nicolas Thomas|2022-09-18|102869|          110|\n",
      "|       1050|        Ethan Martin|2022-08-03|146786|          107|\n",
      "|       1053|       Rachel Nelson|2022-09-06|122155|          107|\n",
      "|       1057|Mrs. Donna Rodriguez|2022-04-25| 78103|          104|\n",
      "|       1063|          Steven May|2022-11-17|105838|          110|\n",
      "|       1068|      Phillip Miller|2022-04-15|142131|          110|\n",
      "|       1071|           Jay Lopez|2022-03-12|112554|          106|\n",
      "|       1074|   Marvin Montgomery|2022-07-17| 92944|          103|\n",
      "|       1088|        Heidi Miller|2022-04-16|105763|          109|\n",
      "|       1095|      Stephanie Beck|2022-07-12|130445|          104|\n",
      "|       1106|        Miguel Marks|2022-10-01|120784|          101|\n",
      "|       1107|      Hannah Carroll|2022-11-23|123916|          107|\n",
      "|       1108|       Troy Anderson|2022-10-02|119887|          108|\n",
      "|       1121|         Andre Smith|2022-09-30| 57452|          107|\n",
      "+-----------+--------------------+----------+------+-------------+\n",
      "only showing top 20 rows\n"
     ]
    }
   ],
   "source": [
    "employees_df.filter(F.year(\"hire_date\") == 2022).show() "
   ]
  },
  {
   "cell_type": "markdown",
   "id": "0bc83350-71fe-4184-bd41-fff0c665b746",
   "metadata": {},
   "source": [
    "## Question 4: List employees ordered by their hire date, with the most recent hires first.  "
   ]
  },
  {
   "cell_type": "code",
   "execution_count": 8,
   "id": "0e3eb747-72d0-4afe-9f80-224cd1ad77ad",
   "metadata": {
    "scrolled": true
   },
   "outputs": [
    {
     "name": "stdout",
     "output_type": "stream",
     "text": [
      "+-----------+---------------+----------+------+-------------+\n",
      "|employee_id|  employee_name| hire_date|salary|department_id|\n",
      "+-----------+---------------+----------+------+-------------+\n",
      "|       1481|   Brian Reeves|2025-08-21| 84051|          103|\n",
      "|       1035| Shannon Werner|2025-08-12|115700|          107|\n",
      "|       1296|   Jason Barron|2025-07-21| 51478|          110|\n",
      "|       1392|George Peterson|2025-07-05| 88778|          104|\n",
      "|       1370|    Scott Perez|2025-07-02|106583|          108|\n",
      "+-----------+---------------+----------+------+-------------+\n",
      "only showing top 5 rows\n"
     ]
    }
   ],
   "source": [
    "employees_df.orderBy(F.col(\"hire_date\").desc()).show(5) "
   ]
  },
  {
   "cell_type": "markdown",
   "id": "b9ed822d-8a46-4fbc-89cf-a17cca8324e4",
   "metadata": {},
   "source": [
    "## Question 5: How many employees are in each department?  "
   ]
  },
  {
   "cell_type": "code",
   "execution_count": 9,
   "id": "7d9b67f0-4ad4-4c84-aa93-6dc31c78a323",
   "metadata": {},
   "outputs": [
    {
     "name": "stdout",
     "output_type": "stream",
     "text": [
      "+-----------+-----------------+----------+------+-------------+--------------------+-------------------+\n",
      "|employee_id|    employee_name| hire_date|salary|department_id|     department_name|           location|\n",
      "+-----------+-----------------+----------+------+-------------+--------------------+-------------------+\n",
      "|       1001|     David Harris|2016-09-16| 67812|          105|       Meteorologist|        Brennanbury|\n",
      "|       1002|      Victor Cobb|2021-03-16| 90368|          105|       Meteorologist|        Brennanbury|\n",
      "|       1003|     Joshua Fritz|2019-05-12| 52462|          102|            Animator|     East Tracyfurt|\n",
      "|       1004|   Shannon Bowers|2020-07-19|109879|          110|Engineer building...|South Catherineberg|\n",
      "|       1005|     Donna Hunter|2022-12-01| 56019|          110|Engineer building...|South Catherineberg|\n",
      "|       1006|  Francis Kennedy|2022-04-10|130969|          101|         Media buyer|        Melissastad|\n",
      "|       1007| Natasha Anderson|2023-03-07| 78423|          105|       Meteorologist|        Brennanbury|\n",
      "|       1008|   Patricia Scott|2015-08-25|103992|          106|Research scientis...|       Breannamouth|\n",
      "|       1009|    Wesley Carter|2019-01-07|112309|          103|      Hydrogeologist|        Carrchester|\n",
      "|       1010|   Michael Rogers|2022-08-16|132918|          106|Research scientis...|       Breannamouth|\n",
      "|       1011|    Melanie Heath|2023-02-08| 98144|          102|            Animator|     East Tracyfurt|\n",
      "|       1012|     Kenneth Hill|2019-03-11|127447|          108| Visual merchandiser|   Port Josephhaven|\n",
      "|       1013|    Lynn Williams|2024-06-15| 71867|          102|            Animator|     East Tracyfurt|\n",
      "|       1014| Erin Fitzpatrick|2023-02-17|137303|          101|         Media buyer|        Melissastad|\n",
      "|       1015|   Matthew Wilson|2019-07-17| 53760|          106|Research scientis...|       Breannamouth|\n",
      "|       1016|  Robert Gonzalez|2017-05-01| 57802|          106|Research scientis...|       Breannamouth|\n",
      "|       1017|     Mary Elliott|2025-05-18|141541|          105|       Meteorologist|        Brennanbury|\n",
      "|       1018|      Janet Smith|2018-06-12|111431|          110|Engineer building...|South Catherineberg|\n",
      "|       1019|     Dawn Escobar|2024-04-01|131577|          107|     Hospital doctor|          Yatesport|\n",
      "|       1020|Christopher White|2017-07-24|141355|          106|Research scientis...|       Breannamouth|\n",
      "+-----------+-----------------+----------+------+-------------+--------------------+-------------------+\n",
      "only showing top 20 rows\n"
     ]
    }
   ],
   "source": [
    "emp_dept_df = employees_df \\\n",
    "    .join(departments_df,departments_df.department_id == employees_df.department_id,\"inner\") \\\n",
    "    .drop(departments_df.department_id)\n",
    "emp_dept_df.show() "
   ]
  },
  {
   "cell_type": "code",
   "execution_count": 10,
   "id": "f8b14c9b-7617-4963-85c9-5649c894e107",
   "metadata": {},
   "outputs": [
    {
     "name": "stdout",
     "output_type": "stream",
     "text": [
      "+--------------------+-----+\n",
      "|     department_name|count|\n",
      "+--------------------+-----+\n",
      "|      Hydrogeologist|   53|\n",
      "| Visual merchandiser|   44|\n",
      "|            Animator|   52|\n",
      "|Engineer building...|   45|\n",
      "|       Meteorologist|   62|\n",
      "|Fitness centre ma...|   48|\n",
      "|    Technical author|   53|\n",
      "|     Hospital doctor|   49|\n",
      "|         Media buyer|   47|\n",
      "|Research scientis...|   47|\n",
      "+--------------------+-----+\n",
      "\n"
     ]
    }
   ],
   "source": [
    "emp_dept_df.groupBy(\"department_name\").count().show() "
   ]
  },
  {
   "cell_type": "markdown",
   "id": "66d461bc-0a57-44bd-b24b-749b182a2b40",
   "metadata": {},
   "source": [
    "## Question 6: What is the average, maximum, and minimum salary for each department?  "
   ]
  },
  {
   "cell_type": "code",
   "execution_count": 11,
   "id": "f80458c8-f6b0-4aed-9ccd-10a6ea5e1d48",
   "metadata": {
    "scrolled": true
   },
   "outputs": [
    {
     "name": "stdout",
     "output_type": "stream",
     "text": [
      "+--------------------+--------------+----------+----------+\n",
      "|     department_name|average_salary|max_salary|min_salary|\n",
      "+--------------------+--------------+----------+----------+\n",
      "|            Animator|     101103.46|     98144|    100607|\n",
      "|Engineer building...|      97810.18|     98708|    102070|\n",
      "|Fitness centre ma...|      99754.75|     98646|    108829|\n",
      "|     Hospital doctor|     100757.71|     97331|    102086|\n",
      "|      Hydrogeologist|      94225.15|     93204|    101330|\n",
      "|         Media buyer|     100449.13|     98932|    102233|\n",
      "|       Meteorologist|     104025.95|     98338|    100566|\n",
      "|Research scientis...|     102398.53|     98000|    103992|\n",
      "|    Technical author|      98327.02|     97958|    103918|\n",
      "| Visual merchandiser|     105074.14|     99905|    101836|\n",
      "+--------------------+--------------+----------+----------+\n",
      "\n"
     ]
    }
   ],
   "source": [
    "emp_dept_df.groupBy(\"department_name\").agg(F.round(F.avg(\"salary\"),2).alias(\"average_salary\"),F.max(\"salary\").alias(\"max_salary\"),F.min(\"salary\").alias(\"min_salary\"))    .show() "
   ]
  },
  {
   "cell_type": "markdown",
   "id": "854f77a7-c300-4841-b971-2ebfad0a3da6",
   "metadata": {},
   "source": [
    "## Question 7: What is the total salary budget for the entire company?  "
   ]
  },
  {
   "cell_type": "code",
   "execution_count": 43,
   "id": "989cdaac-7713-440c-8945-b7f88f47b894",
   "metadata": {
    "scrolled": true
   },
   "outputs": [
    {
     "name": "stdout",
     "output_type": "stream",
     "text": [
      "+-------------+\n",
      "| total budget|\n",
      "+-------------+\n",
      "|50,196,170.00|\n",
      "+-------------+\n",
      "\n"
     ]
    }
   ],
   "source": [
    "employees_df.agg(F.format_number(F.sum(\"salary\"),2).alias(\"total budget\")).show() "
   ]
  },
  {
   "cell_type": "markdown",
   "id": "fcd5aca9-db8f-4728-8390-10bcf8a5fe64",
   "metadata": {},
   "source": [
    "## Question 8: Find all employees who work in a specific city."
   ]
  },
  {
   "cell_type": "code",
   "execution_count": 45,
   "id": "4e14d6d8-e562-4bc6-ac2b-dc1fb0c7838e",
   "metadata": {},
   "outputs": [
    {
     "name": "stdout",
     "output_type": "stream",
     "text": [
      "+-----------+-----------------+----------+------+-------------+---------------+-----------+\n",
      "|employee_id|    employee_name| hire_date|salary|department_id|department_name|   location|\n",
      "+-----------+-----------------+----------+------+-------------+---------------+-----------+\n",
      "|       1001|     David Harris|2016-09-16| 67812|          105|  Meteorologist|Brennanbury|\n",
      "|       1002|      Victor Cobb|2021-03-16| 90368|          105|  Meteorologist|Brennanbury|\n",
      "|       1007| Natasha Anderson|2023-03-07| 78423|          105|  Meteorologist|Brennanbury|\n",
      "|       1017|     Mary Elliott|2025-05-18|141541|          105|  Meteorologist|Brennanbury|\n",
      "|       1022|    Patrick Baker|2023-08-28| 78604|          105|  Meteorologist|Brennanbury|\n",
      "|       1032|   Krystal Ramsey|2020-01-12| 91951|          105|  Meteorologist|Brennanbury|\n",
      "|       1037| Charles Phillips|2024-07-03| 89464|          105|  Meteorologist|Brennanbury|\n",
      "|       1058|   Michelle David|2018-08-25|136750|          105|  Meteorologist|Brennanbury|\n",
      "|       1061|   Xavier Griffin|2024-05-29|119447|          105|  Meteorologist|Brennanbury|\n",
      "|       1066|    William Scott|2017-02-24| 92909|          105|  Meteorologist|Brennanbury|\n",
      "|       1077|  Travis Odonnell|2020-08-12| 70950|          105|  Meteorologist|Brennanbury|\n",
      "|       1078|       Noah Smith|2019-11-06| 85682|          105|  Meteorologist|Brennanbury|\n",
      "|       1085|      Alan Nguyen|2021-01-26|108336|          105|  Meteorologist|Brennanbury|\n",
      "|       1096|     Jose Raymond|2015-09-03| 71652|          105|  Meteorologist|Brennanbury|\n",
      "|       1097|  Benjamin Thomas|2024-10-20|118095|          105|  Meteorologist|Brennanbury|\n",
      "|       1099|     Mark Burgess|2024-04-09| 52344|          105|  Meteorologist|Brennanbury|\n",
      "|       1132|     Karen Knight|2017-05-18| 54305|          105|  Meteorologist|Brennanbury|\n",
      "|       1142|   Anthony Nelson|2024-05-08| 64902|          105|  Meteorologist|Brennanbury|\n",
      "|       1146|Michelle Gonzales|2019-02-09|112361|          105|  Meteorologist|Brennanbury|\n",
      "|       1156|     Melissa Pena|2016-01-26| 79487|          105|  Meteorologist|Brennanbury|\n",
      "+-----------+-----------------+----------+------+-------------+---------------+-----------+\n",
      "only showing top 20 rows\n"
     ]
    }
   ],
   "source": [
    "emp_dept_df.filter(F.col(\"location\") == \"Brennanbury\").show()"
   ]
  },
  {
   "cell_type": "markdown",
   "id": "ab947d4f-a521-43f0-b00b-65fb554105c9",
   "metadata": {},
   "source": [
    "## Question 9: Add a new column to show each employee's salary as a percentage of their department's average salary.  "
   ]
  },
  {
   "cell_type": "code",
   "execution_count": 55,
   "id": "a250ad04-cab9-43a5-b7ef-e124e9a7c425",
   "metadata": {},
   "outputs": [
    {
     "name": "stdout",
     "output_type": "stream",
     "text": [
      "+-----------------+--------------------+------+------------------+------------------+\n",
      "|    employee_name|     department_name|salary|   dept_avg_salary|salary_vs_dept_avg|\n",
      "+-----------------+--------------------+------+------------------+------------------+\n",
      "|     David Harris|       Meteorologist| 67812|104025.95161290323| 65.18757958815797|\n",
      "|      Victor Cobb|       Meteorologist| 90368|104025.95161290323|  86.8706304521716|\n",
      "|     Joshua Fritz|            Animator| 52462|101103.46153846153|  51.8894202055016|\n",
      "|   Shannon Bowers|Engineer building...|109879| 97810.17777777778|112.33902493219293|\n",
      "|     Donna Hunter|Engineer building...| 56019| 97810.17777777778| 57.27318084143936|\n",
      "|  Francis Kennedy|         Media buyer|130969|100449.12765957447|130.38341203306257|\n",
      "| Natasha Anderson|       Meteorologist| 78423|104025.95161290323| 75.38791886453892|\n",
      "|   Patricia Scott|Research scientis...|103992|102398.53191489361|101.55614348693081|\n",
      "|    Wesley Carter|      Hydrogeologist|112309| 94225.15094339622|119.19216777637986|\n",
      "|   Michael Rogers|Research scientis...|132918|102398.53191489361|  129.804595353449|\n",
      "|    Melanie Heath|            Animator| 98144|101103.46153846153| 97.07283856217356|\n",
      "|     Kenneth Hill| Visual merchandiser|127447|105074.13636363637|121.29245541351538|\n",
      "|    Lynn Williams|            Animator| 71867|101103.46153846153| 71.08263051177583|\n",
      "| Erin Fitzpatrick|         Media buyer|137303|100449.12765957447| 136.6890914825309|\n",
      "|   Matthew Wilson|Research scientis...| 53760|102398.53191489361| 52.50075269114356|\n",
      "|  Robert Gonzalez|Research scientis...| 57802|102398.53191489361| 56.44807490798883|\n",
      "|     Mary Elliott|       Meteorologist|141541|104025.95161290323|136.06316289871214|\n",
      "|      Janet Smith|Engineer building...|111431| 97810.17777777778| 113.9257718692306|\n",
      "|     Dawn Escobar|     Hospital doctor|131577|100757.71428571429|130.58751970781393|\n",
      "|Christopher White|Research scientis...|141355|102398.53191489361| 138.0439712919754|\n",
      "+-----------------+--------------------+------+------------------+------------------+\n",
      "only showing top 20 rows\n"
     ]
    }
   ],
   "source": [
    "dept_avg_salary_df = emp_dept_df.groupBy(\"department_id\").agg(F.avg(\"salary\").alias(\"dept_avg_salary\"))\n",
    "\n",
    "emp_avg_df = emp_dept_df.join(dept_avg_salary_df,\"department_id\",\"left\")\n",
    "\n",
    "emp_avg_df = emp_avg_df.withColumn(\"salary_vs_dept_avg\",F.col(\"salary\")/F.col(\"dept_avg_salary\")*100)\n",
    "\n",
    "emp_avg_df.select(\"employee_name\",\"department_name\",\"salary\",\"dept_avg_salary\",\"salary_vs_dept_avg\").show()"
   ]
  },
  {
   "cell_type": "markdown",
   "id": "358c5dee-ecbd-49bd-9a1d-b3a94c084eec",
   "metadata": {},
   "source": [
    "## Question 10: Calculate the number of years each employee has been with the company.  "
   ]
  },
  {
   "cell_type": "code",
   "execution_count": 58,
   "id": "16ae0e88-9cf0-45b3-a0de-1cd8b59784aa",
   "metadata": {
    "scrolled": true
   },
   "outputs": [
    {
     "name": "stdout",
     "output_type": "stream",
     "text": [
      "+-----------+-----------------+----------+------+-------------+---------------+----------------+\n",
      "|employee_id|    employee_name| hire_date|salary|department_id|salary_category|years_of_service|\n",
      "+-----------+-----------------+----------+------+-------------+---------------+----------------+\n",
      "|       1001|     David Harris|2016-09-16| 67812|          105|         Medium|            9.04|\n",
      "|       1002|      Victor Cobb|2021-03-16| 90368|          105|         Medium|            4.54|\n",
      "|       1003|     Joshua Fritz|2019-05-12| 52462|          102|         Medium|            6.38|\n",
      "|       1004|   Shannon Bowers|2020-07-19|109879|          110|           High|            5.19|\n",
      "|       1005|     Donna Hunter|2022-12-01| 56019|          110|         Medium|            2.82|\n",
      "|       1006|  Francis Kennedy|2022-04-10|130969|          101|           High|            3.47|\n",
      "|       1007| Natasha Anderson|2023-03-07| 78423|          105|         Medium|            2.56|\n",
      "|       1008|   Patricia Scott|2015-08-25|103992|          106|           High|            10.1|\n",
      "|       1009|    Wesley Carter|2019-01-07|112309|          103|           High|            6.73|\n",
      "|       1010|   Michael Rogers|2022-08-16|132918|          106|           High|            3.12|\n",
      "|       1011|    Melanie Heath|2023-02-08| 98144|          102|         Medium|            2.64|\n",
      "|       1012|     Kenneth Hill|2019-03-11|127447|          108|           High|            6.55|\n",
      "|       1013|    Lynn Williams|2024-06-15| 71867|          102|         Medium|            1.28|\n",
      "|       1014| Erin Fitzpatrick|2023-02-17|137303|          101|           High|            2.61|\n",
      "|       1015|   Matthew Wilson|2019-07-17| 53760|          106|         Medium|             6.2|\n",
      "|       1016|  Robert Gonzalez|2017-05-01| 57802|          106|         Medium|            8.41|\n",
      "|       1017|     Mary Elliott|2025-05-18|141541|          105|           High|            0.36|\n",
      "|       1018|      Janet Smith|2018-06-12|111431|          110|           High|             7.3|\n",
      "|       1019|     Dawn Escobar|2024-04-01|131577|          107|           High|            1.49|\n",
      "|       1020|Christopher White|2017-07-24|141355|          106|           High|            8.18|\n",
      "+-----------+-----------------+----------+------+-------------+---------------+----------------+\n",
      "only showing top 20 rows\n"
     ]
    }
   ],
   "source": [
    "employees_df.withColumn(\"years_of_service\",F.round(F.datediff(F.current_date(),F.col(\"hire_date\"))/365,2)).show() "
   ]
  },
  {
   "cell_type": "markdown",
   "id": "2a34ffc9-6e5d-422b-8ded-f9cfb68ce96a",
   "metadata": {},
   "source": [
    "## Question 11: Find the first and last hire date for each department. "
   ]
  },
  {
   "cell_type": "code",
   "execution_count": 66,
   "id": "e3c7b813-7726-49f3-95f0-024d6996b6be",
   "metadata": {
    "scrolled": true
   },
   "outputs": [
    {
     "name": "stdout",
     "output_type": "stream",
     "text": [
      "+--------------------+----------+----------+\n",
      "|     department_name|first_hire| last_hire|\n",
      "+--------------------+----------+----------+\n",
      "|            Animator|2015-12-06|2025-02-11|\n",
      "|Engineer building...|2015-11-16|2025-07-21|\n",
      "|Fitness centre ma...|2015-09-28|2025-07-05|\n",
      "|     Hospital doctor|2015-09-02|2025-08-12|\n",
      "|      Hydrogeologist|2015-09-27|2025-08-21|\n",
      "|         Media buyer|2016-01-13|2025-06-08|\n",
      "|       Meteorologist|2015-09-01|2025-06-01|\n",
      "|Research scientis...|2015-08-25|2025-06-12|\n",
      "|    Technical author|2015-08-30|2024-12-26|\n",
      "| Visual merchandiser|2015-09-07|2025-07-02|\n",
      "+--------------------+----------+----------+\n",
      "\n"
     ]
    }
   ],
   "source": [
    "emp_dept_df.groupBy(\"department_name\").agg(F.min(\"hire_date\").alias(\"first_hire\"),F.max(\"hire_date\").alias(\"last_hire\")).show()"
   ]
  },
  {
   "cell_type": "markdown",
   "id": "03c2b95e-e56b-44f4-8b17-acde5b101f3d",
   "metadata": {},
   "source": [
    "## Question 12: Rank employees within each department based on their salary (highest first). "
   ]
  },
  {
   "cell_type": "code",
   "execution_count": 12,
   "id": "a97db8ec-b5eb-4785-8163-90252e480459",
   "metadata": {},
   "outputs": [
    {
     "name": "stdout",
     "output_type": "stream",
     "text": [
      "+-----------+-----------------+----------+------+-------------+----+\n",
      "|employee_id|    employee_name| hire_date|salary|department_id|rank|\n",
      "+-----------+-----------------+----------+------+-------------+----+\n",
      "|       1173|Christopher Davis|2021-10-28| 98932|          101|   1|\n",
      "|       1302| Michael Anderson|2022-08-03| 94001|          101|   2|\n",
      "|       1352|      Amy Elliott|2024-08-18| 92042|          101|   3|\n",
      "|       1040|     Steven Jones|2016-08-28| 92015|          101|   4|\n",
      "|       1349|      Mark Hebert|2022-07-05| 91714|          101|   5|\n",
      "|       1110|     Marie Taylor|2023-10-27| 88260|          101|   6|\n",
      "|       1495|       Amy Butler|2025-02-12| 87174|          101|   7|\n",
      "|       1210|    Daniel Barnes|2018-03-17| 86921|          101|   8|\n",
      "|       1279|    Jose Robinson|2023-09-06| 85974|          101|   9|\n",
      "|       1162|      Jared Berry|2022-07-26| 83037|          101|  10|\n",
      "+-----------+-----------------+----------+------+-------------+----+\n",
      "only showing top 10 rows\n"
     ]
    }
   ],
   "source": [
    "windowparameter = Window.partitionBy(\"department_id\").orderBy(F.col(\"salary\").desc())\n",
    "\n",
    "employees_df.withColumn(\"rank\",F.rank().over(windowparameter)).show(10) "
   ]
  },
  {
   "cell_type": "markdown",
   "id": "a76f8253-627f-43d7-a803-3adaeebf3a11",
   "metadata": {},
   "source": [
    "## Question 13: Calculate a running total of salaries within each department, ordered by hire date.  "
   ]
  },
  {
   "cell_type": "code",
   "execution_count": 14,
   "id": "abb4f16b-62b7-4194-8b8b-5c4a2692c454",
   "metadata": {},
   "outputs": [
    {
     "name": "stdout",
     "output_type": "stream",
     "text": [
      "+-----------+---------------+-------------+----------+------+--------------------+\n",
      "|employee_id|  employee_name|department_id| hire_date|salary|running_total_salary|\n",
      "+-----------+---------------+-------------+----------+------+--------------------+\n",
      "|       1305|Ashley Reynolds|          101|2016-01-13|115809|            115809.0|\n",
      "|       1464|  Kristin Ellis|          101|2016-08-25| 68446|            184255.0|\n",
      "|       1040|   Steven Jones|          101|2016-08-28| 92015|            276270.0|\n",
      "|       1163|   Lauren Lloyd|          101|2016-09-23| 80824|            357094.0|\n",
      "|       1165|  Michael Booth|          101|2017-01-02| 58107|            415201.0|\n",
      "|       1237|   Barbara Hall|          101|2017-02-05| 50431|            465632.0|\n",
      "|       1250|   Alison Jones|          101|2017-03-22| 74724|            540356.0|\n",
      "|       1431|     Mark Lyons|          101|2017-05-21| 55250|            595606.0|\n",
      "|       1151|  Krystal Nunez|          101|2017-09-11|146549|            742155.0|\n",
      "|       1310|  Sandra Sutton|          101|2017-11-11| 68255|            810410.0|\n",
      "|       1380|   Nicole Smith|          101|2017-12-16|105318|            915728.0|\n",
      "|       1210|  Daniel Barnes|          101|2018-03-17| 86921|           1002649.0|\n",
      "|       1258| Debra Mcmillan|          101|2018-03-17|140245|           1142894.0|\n",
      "|       1309|    Anne Carter|          101|2019-01-31| 60609|           1203503.0|\n",
      "|       1271|   Kenneth Reed|          101|2019-02-22|109119|           1312622.0|\n",
      "|       1090|    Tammy Russo|          101|2019-03-01|112954|           1425576.0|\n",
      "|       1217|Jennifer Wright|          101|2019-04-28| 74634|           1500210.0|\n",
      "|       1029|  Amanda Knight|          101|2019-05-26|131503|           1631713.0|\n",
      "|       1086| Carmen Wallace|          101|2019-06-01|142597|           1774310.0|\n",
      "|       1041|     Amy Cannon|          101|2019-07-19|102333|           1876643.0|\n",
      "+-----------+---------------+-------------+----------+------+--------------------+\n",
      "only showing top 20 rows\n"
     ]
    }
   ],
   "source": [
    "dept_window = Window.partitionBy(\"department_id\").orderBy(\"hire_date\").rowsBetween(Window.unboundedPreceding, Window.currentRow)\n",
    "\n",
    "employees_with_running_total = employees_df.withColumn(\"running_total_salary\",F.sum(\"salary\").over(dept_window))\n",
    "\n",
    "employees_with_running_total.select(\"employee_id\", \"employee_name\", \"department_id\", \"hire_date\", \"salary\", \"running_total_salary\").show()"
   ]
  },
  {
   "cell_type": "markdown",
   "id": "cc883ef7-411d-4b9f-b872-1cb075462969",
   "metadata": {},
   "source": [
    "## Question 14: Create a new column to categorize employees as 'High', 'Medium', or 'Low' earners based on salary.  "
   ]
  },
  {
   "cell_type": "code",
   "execution_count": 10,
   "id": "c75e8f0e-1d5d-48ec-939b-3e204cd1d9c9",
   "metadata": {
    "scrolled": true
   },
   "outputs": [
    {
     "name": "stdout",
     "output_type": "stream",
     "text": [
      "+-----------+-----------------+----------+------+-------------+---------------+\n",
      "|employee_id|    employee_name| hire_date|salary|department_id|salary_category|\n",
      "+-----------+-----------------+----------+------+-------------+---------------+\n",
      "|       1001|     David Harris|2016-09-16| 67812|          105|            Low|\n",
      "|       1002|      Victor Cobb|2021-03-16| 90368|          105|         Medium|\n",
      "|       1003|     Joshua Fritz|2019-05-12| 52462|          102|            Low|\n",
      "|       1004|   Shannon Bowers|2020-07-19|109879|          110|           High|\n",
      "|       1005|     Donna Hunter|2022-12-01| 56019|          110|            Low|\n",
      "|       1006|  Francis Kennedy|2022-04-10|130969|          101|           High|\n",
      "|       1007| Natasha Anderson|2023-03-07| 78423|          105|         Medium|\n",
      "|       1008|   Patricia Scott|2015-08-25|103992|          106|           High|\n",
      "|       1009|    Wesley Carter|2019-01-07|112309|          103|           High|\n",
      "|       1010|   Michael Rogers|2022-08-16|132918|          106|           High|\n",
      "|       1011|    Melanie Heath|2023-02-08| 98144|          102|         Medium|\n",
      "|       1012|     Kenneth Hill|2019-03-11|127447|          108|           High|\n",
      "|       1013|    Lynn Williams|2024-06-15| 71867|          102|            Low|\n",
      "|       1014| Erin Fitzpatrick|2023-02-17|137303|          101|           High|\n",
      "|       1015|   Matthew Wilson|2019-07-17| 53760|          106|            Low|\n",
      "|       1016|  Robert Gonzalez|2017-05-01| 57802|          106|            Low|\n",
      "|       1017|     Mary Elliott|2025-05-18|141541|          105|           High|\n",
      "|       1018|      Janet Smith|2018-06-12|111431|          110|           High|\n",
      "|       1019|     Dawn Escobar|2024-04-01|131577|          107|           High|\n",
      "|       1020|Christopher White|2017-07-24|141355|          106|           High|\n",
      "+-----------+-----------------+----------+------+-------------+---------------+\n",
      "only showing top 20 rows\n"
     ]
    }
   ],
   "source": [
    "employees_df.withColumn(\"salary_category\",F.when(F.col(\"salary\")>=100000,\"High\").when(F.col(\"salary\")>=75000,\"Medium\").otherwise(\"Low\")).show()"
   ]
  },
  {
   "cell_type": "markdown",
   "id": "a0ee04ce-c60e-48f1-a229-fa0397df7da2",
   "metadata": {},
   "source": [
    "## Question 15: Find all employees whose name contains the letter 'a' (case-insensitive).  "
   ]
  },
  {
   "cell_type": "code",
   "execution_count": 11,
   "id": "2778f54a-10b4-4047-be4c-9d62e0328521",
   "metadata": {
    "scrolled": true
   },
   "outputs": [
    {
     "name": "stdout",
     "output_type": "stream",
     "text": [
      "+-----------+------------------+----------+------+-------------+\n",
      "|employee_id|     employee_name| hire_date|salary|department_id|\n",
      "+-----------+------------------+----------+------+-------------+\n",
      "|       1001|      David Harris|2016-09-16| 67812|          105|\n",
      "|       1003|      Joshua Fritz|2019-05-12| 52462|          102|\n",
      "|       1004|    Shannon Bowers|2020-07-19|109879|          110|\n",
      "|       1005|      Donna Hunter|2022-12-01| 56019|          110|\n",
      "|       1006|   Francis Kennedy|2022-04-10|130969|          101|\n",
      "|       1007|  Natasha Anderson|2023-03-07| 78423|          105|\n",
      "|       1008|    Patricia Scott|2015-08-25|103992|          106|\n",
      "|       1009|     Wesley Carter|2019-01-07|112309|          103|\n",
      "|       1010|    Michael Rogers|2022-08-16|132918|          106|\n",
      "|       1011|     Melanie Heath|2023-02-08| 98144|          102|\n",
      "|       1013|     Lynn Williams|2024-06-15| 71867|          102|\n",
      "|       1014|  Erin Fitzpatrick|2023-02-17|137303|          101|\n",
      "|       1015|    Matthew Wilson|2019-07-17| 53760|          106|\n",
      "|       1016|   Robert Gonzalez|2017-05-01| 57802|          106|\n",
      "|       1017|      Mary Elliott|2025-05-18|141541|          105|\n",
      "|       1018|       Janet Smith|2018-06-12|111431|          110|\n",
      "|       1019|      Dawn Escobar|2024-04-01|131577|          107|\n",
      "|       1021|Sophia Nielsen DVM|2017-06-23|141031|          106|\n",
      "|       1022|     Patrick Baker|2023-08-28| 78604|          105|\n",
      "|       1023|     James Jackson|2022-04-20|149130|          109|\n",
      "+-----------+------------------+----------+------+-------------+\n",
      "only showing top 20 rows\n"
     ]
    }
   ],
   "source": [
    "employees_df.filter(F.col(\"employee_name\").like(\"%a%\")).show()"
   ]
  },
  {
   "cell_type": "markdown",
   "id": "e9cbb9b4-4905-4879-931f-031f1c27a1dd",
   "metadata": {},
   "source": [
    "## Conclusion  \n",
    "The **Workforce Intelligence Engine** demonstrates how PySpark can be applied to workforce data for fast, accurate, and scalable insights.  \n",
    "\n",
    "By completing the guided analytics session, you gain the ability to:  \n",
    "- Answer leadership’s most pressing HR and Finance questions.  \n",
    "- Build a foundation for advanced analytics like forecasting and predictive modeling.  \n",
    "- Create a culture of intelligence where workforce data drives business success.  "
   ]
  }
 ],
 "metadata": {
  "kernelspec": {
   "display_name": "Python 3 (ipykernel)",
   "language": "python",
   "name": "python3"
  },
  "language_info": {
   "codemirror_mode": {
    "name": "ipython",
    "version": 3
   },
   "file_extension": ".py",
   "mimetype": "text/x-python",
   "name": "python",
   "nbconvert_exporter": "python",
   "pygments_lexer": "ipython3",
   "version": "3.9.6"
  }
 },
 "nbformat": 4,
 "nbformat_minor": 5
}
